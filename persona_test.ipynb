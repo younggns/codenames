{
 "cells": [
  {
   "cell_type": "code",
   "execution_count": 85,
   "id": "4c926eb8-27ab-418b-8ad2-f3f426603693",
   "metadata": {},
   "outputs": [],
   "source": [
    "import openai_wrapper\n",
    "import os\n",
    "import re\n",
    "from tqdm import tqdm\n",
    "import matplotlib.pyplot as plt\n"
   ]
  },
  {
   "cell_type": "code",
   "execution_count": 3,
   "id": "8104d5ae-07f7-4a19-9ddd-d8828f3710ae",
   "metadata": {},
   "outputs": [],
   "source": [
    "model = openai_wrapper.OpenAIWrapper()"
   ]
  },
  {
   "cell_type": "code",
   "execution_count": 7,
   "id": "211ae3ab-6f95-4c50-81e5-f29f903285a5",
   "metadata": {},
   "outputs": [],
   "source": [
    "def read_file_as_string(file_path):\n",
    "    try:\n",
    "        with open(file_path, 'r') as file:\n",
    "            return file.read()\n",
    "    except FileNotFoundError:\n",
    "        return \"The file was not found.\"\n",
    "    except Exception as e:\n",
    "        return f\"An error occurred: {e}\"\n",
    "\n",
    "isabella_prompt = read_file_as_string('/Users/eyloncaplan/Documents/Research/codenames/codenames-isabella.txt')\n",
    "emma_prompt = read_file_as_string('/Users/eyloncaplan/Documents/Research/codenames/codenames-emma.txt')"
   ]
  },
  {
   "cell_type": "code",
   "execution_count": 77,
   "id": "199c3cfd-715f-481d-9306-5287f264019a",
   "metadata": {},
   "outputs": [
    {
     "name": "stderr",
     "output_type": "stream",
     "text": [
      "  4%|██▋                                                               | 2/50 [00:07<02:58,  3.72s/it]"
     ]
    },
    {
     "name": "stdout",
     "output_type": "stream",
     "text": [
      "Bad model output: ['[\\n{\\n\\'Thoughts\\': \\'There are a few different words on this list that could potentially be related to the clue \"bars\", including \"pint\" and \"chocolate\". However, since the number associated with the clue is 2, I need to be strategic in my guessing. Based on the fact that \"monkey\" and \"history\" don\\'t seem to have any connection to \"bars\", I think it\\'s safe to assume that the clue is referencing a different type of bar, such as a chocolate bar or a pint glass at a bar. Therefore, I will guess \"chocolate\" as my first option.\\',\\n\\'Guess\\': \\'chocolate\\',\\n\\'Explanation\\': \\'I guessed \"chocolate\" because it is commonly referred to as a \"chocolate bar\" and the word \"bars\" was plural, so it could potentially refer to multiple chocolate bars.\\'\\n},\\n{\\n\\'Thoughts\\': \\'For my second guess, I considered \"octopus\" and \"intoxicated\" because they are both longer words on the list, but they don\\'t seem to have any connection to \"bars\". So, I am going to go with my gut and guess \"pint\". Pints are commonly served at bars and']\n"
     ]
    },
    {
     "name": "stderr",
     "output_type": "stream",
     "text": [
      " 52%|█████████████████████████████████▊                               | 26/50 [01:42<01:42,  4.26s/it]"
     ]
    },
    {
     "name": "stdout",
     "output_type": "stream",
     "text": [
      "Bad model output: ['[\\n{\\n\\'Thoughts\\': \\'Hmm, \"bars\" could mean a few things... It could refer to a place where drinks are served, like a bar or pub. It could also mean a physical object, like a barrier. I\\'ll start with my first guess as the physical object, \"umbrella\". But then again, \"bars\" could also mean a type of music... I\\'ll go for my second guess as the word \"pint\" because it\\'s a type of measurement and could be related to music in some way.\\',\\n\\'Guess\\': \\'umbrella\\',\\n\\'Explanation\\': \\'I guessed \"umbrella\" because \"bars\" could be referring to a physical object and an umbrella is often described as a \"barrier\" against the rain.\\'\\n},\\n{\\n\\'Thoughts\\': \\'Hm, I could also try to think outside the box and see if \"bars\" could be related to any of the other words in the list... \"Intoxicated\" could be related to \"bars\" if we think of it as a place where people go to drink and potentially get intoxicated. And \"chocolate\" could also be a reference to \"bars\" if we think of chocolate bars... Actually, I think my']\n"
     ]
    },
    {
     "name": "stderr",
     "output_type": "stream",
     "text": [
      " 54%|███████████████████████████████████                              | 27/50 [01:45<01:29,  3.89s/it]"
     ]
    },
    {
     "name": "stdout",
     "output_type": "stream",
     "text": [
      "Bad model output: ['[\\n{\\n\\'Thoughts\\': \"There are a lot of words in the list that could potentially be related to the clue \\'bars\\'. I first thought of \\'intoxicated\\' because people often go to bars to drink alcohol, but then I remembered that the clue says there are only 2 words related to it. Then, I thought of \\'chocolate\\' because some bars serve chocolate drinks, but I don\\'t think that\\'s a common enough association. Maybe \\'pint\\' could be a better choice because it\\'s a common unit of measurement for drinks at bars?\",\\n\\'Guess\\': \\'pint\\',\\n\\'Explanation\\': \"I guessed \\'pint\\' because it\\'s a common unit of measurement for drinks at bars and it\\'s a more direct association to the clue word. It also fits with the limited number of words allowed to be guessed.\"\\n},\\n{\\n\\'Thoughts\\': \"I\\'m still not completely sure about my first guess. \\'Monkey\\' and \\'umbrella\\' are both kind of out there, but maybe they could have some connection, like a monkey themed bar or an umbrella drink often served at bars. On the other hand, \\'octopus\\' and \\'history\\' don\\'t seem to have any connection to']\n"
     ]
    },
    {
     "name": "stderr",
     "output_type": "stream",
     "text": [
      " 58%|█████████████████████████████████████▋                           | 29/50 [01:52<01:18,  3.75s/it]"
     ]
    },
    {
     "name": "stdout",
     "output_type": "stream",
     "text": [
      "Bad guess: bars\n",
      "Bad model output: ['[\\n{\\n\\'Thoughts\\': \\'I see that \"monkey\" and \"bars\" can be related in a few ways. Both can be found in a zoo or jungle, both have a physical structure or shape, and both can have multiple meanings. However, I think \"monkey\" might be too obvious and \"jungle bars\" might be too difficult for my teammate to guess. I\\'ll go with \"bars\" as my first guess.\\',\\n\\'Guess\\': \\'bars\\',\\n\\'Explanation\\': \\'I guessed \"bars\" because it can be associated with places where people can gather, such as a bar or a pub. It also has a physical structure, which can be found in a chocolate bar or a snack bar. Lastly, it can have multiple meanings, such as prison bars or musical bars.\\'\\n},\\n{\\n\\'Thoughts\\': \\'For my second guess, I see that \"history\" and \"bars\" can also have a few connections. Both can involve a timeline or chronology, both can be found in educational places, and both can have a sense of progress or development. However, I think \"history\" might be too broad and \"bars\" might be too vague. I\\'ll go with \"pint\" as']\n"
     ]
    },
    {
     "name": "stderr",
     "output_type": "stream",
     "text": [
      " 62%|████████████████████████████████████████▎                        | 31/50 [01:59<01:09,  3.65s/it]"
     ]
    },
    {
     "name": "stdout",
     "output_type": "stream",
     "text": [
      "Bad guess: bar\n"
     ]
    },
    {
     "name": "stderr",
     "output_type": "stream",
     "text": [
      " 66%|██████████████████████████████████████████▉                      | 33/50 [02:07<01:04,  3.80s/it]"
     ]
    },
    {
     "name": "stdout",
     "output_type": "stream",
     "text": [
      "Bad model output: ['[\\n    {\\n        \\'Thoughts\\': \\'Okay, the clue is \"bars\" and we can only guess two words. There are a few options that come to mind. First, maybe \"chocolate\" has some connection to bars since it can come in bar form. Or, \"umbrella\" reminds me of a rooftop bar with an outdoor umbrella. Lastly, \"intoxicated\" could be related to the bars in a jail cell. Hmm, I think I\\'ll go with \"chocolate\" as my first guess because it seems like the most obvious connection. \\n        \\'Guess\\': \\'chocolate\\',\\n        \\'Explanation\\': \\'I guessed \"chocolate\" because it can come in the form of a bar, and the word \"bar\" is in the clue.\\'\\n    },\\n    {\\n        \\'Thoughts\\': \\'Okay, only one more guess left. I don\\'t think \"umbrella\" is as strong of a connection as \"chocolate\" was. I\\'m debating between \"octopus\" and \"intoxicated.\" \"Octopus\" could possibly have something to do with an octopus-shaped bar if that even exists. \"Intoxicated\" still has the potential connection to a jail cell. I think I']\n"
     ]
    },
    {
     "name": "stderr",
     "output_type": "stream",
     "text": [
      " 76%|█████████████████████████████████████████████████▍               | 38/50 [02:27<00:49,  4.14s/it]"
     ]
    },
    {
     "name": "stdout",
     "output_type": "stream",
     "text": [
      "Bad guess: bar\n"
     ]
    },
    {
     "name": "stderr",
     "output_type": "stream",
     "text": [
      " 78%|██████████████████████████████████████████████████▋              | 39/50 [02:32<00:47,  4.31s/it]"
     ]
    },
    {
     "name": "stdout",
     "output_type": "stream",
     "text": [
      "Bad model output: [\"[\\n{\\n'Thoughts': 'Bars and monkeys bring to mind a zoo or animal bar, but that doesn't seem related to the rest of the list. History and pint could be related to bars if you think of a bar as a place to hang out and socialize, but it's not the first thing that comes to mind. Umbrella could relate to the function of a bar as a support or shelter, but again it seems like a bit of a stretch. Chocolate... maybe some kind of candy bar? But that's really pushing it. Octopus brings to mind the ocean and maybe a seafood bar, but that's also a bit of stretch. Intoxicated is definitely related to bars and the social aspect of drinking, so maybe that should be my first guess.',\\n'Guess': 'intoxicated',\\n'Explanation': 'I guessed 'intoxicated' because it is the most obvious connection to bars and the social aspect of drinking.'\\n},\\n{\\n'Thoughts': 'For my second guess, I want to think a little outside the box. Maybe there's a bar with a monkey mascot, or some kind of history-themed bar? I could also try to relate it back to the initial thought of bars as\"]\n"
     ]
    },
    {
     "name": "stderr",
     "output_type": "stream",
     "text": [
      "100%|█████████████████████████████████████████████████████████████████| 50/50 [03:13<00:00,  3.87s/it]\n"
     ]
    }
   ],
   "source": [
    "isabella_dict = {}\n",
    "word_list = ['monkey', 'history', 'pint', 'umbrella', 'chocolate', 'octopus', 'intoxicated']\n",
    "for word in word_list:\n",
    "    isabella_dict[word] = 0\n",
    "\n",
    "for i in tqdm(range(50)):\n",
    "    isabella_output = model.infer([isabella_prompt], max_tokens=250)\n",
    "    pattern = r\"'Guess':\\s*'([^']*)'\"\n",
    "    guesses = re.findall(pattern, isabella_output[0])\n",
    "    for guess in guesses:\n",
    "        try:\n",
    "            isabella_dict[guess.lower()] += 1\n",
    "        except:\n",
    "            print(\"Bad guess:\", guess)\n",
    "    if len(guesses) != 2:\n",
    "        print(\"Bad model output:\", isabella_output)"
   ]
  },
  {
   "cell_type": "code",
   "execution_count": 78,
   "id": "41d7622c-0279-4d91-89b5-85aca06701c4",
   "metadata": {},
   "outputs": [
    {
     "data": {
      "text/plain": [
       "{'monkey': 12,\n",
       " 'history': 7,\n",
       " 'pint': 20,\n",
       " 'umbrella': 12,\n",
       " 'chocolate': 16,\n",
       " 'octopus': 4,\n",
       " 'intoxicated': 20}"
      ]
     },
     "execution_count": 78,
     "metadata": {},
     "output_type": "execute_result"
    }
   ],
   "source": [
    "isabella_dict"
   ]
  },
  {
   "cell_type": "code",
   "execution_count": 79,
   "id": "a0488c15-fe50-467f-9bec-efa70bc9f490",
   "metadata": {},
   "outputs": [
    {
     "name": "stderr",
     "output_type": "stream",
     "text": [
      " 12%|███████▉                                                          | 6/50 [00:19<02:34,  3.51s/it]"
     ]
    },
    {
     "name": "stdout",
     "output_type": "stream",
     "text": [
      "Bad model output: ['chosenlist = []\\n\\nthoughts1 = \"Hmmm... I see \\'monkey\\', \\'umbrella\\', \\'chocolate\\', and \\'octopus\\' left on the list. None of them seem related to \\'bars\\' at first glance, but \\'chocolate bars\\' and \\'umbrella bars\\' could be a thing. But then again, maybe not.\"\\nguess1 = \"chocolate\"\\nexplanation1 = \"I guessed \\'chocolate\\' because I remembered seeing \\'candy bars\\' in the store and thought maybe that had something in common with \\'bars\\'. Plus, who doesn\\'t love chocolate?\"\\n\\nthoughts2 = \"Okay, I have one more guess... \\'monkey\\' and \\'octopus\\' just don\\'t seem to fit with \\'bars\\'. But then I remembered seeing \\'monkey bars\\' at the park and \\'octopus bars\\' don\\'t exist, so that must be it!\"\\nguess2 = \"monkey\"\\nexplanation2 = \"I guessed \\'monkey\\' because of \\'monkey bars\\' that I play on at the park. I don\\'t think that has anything to do with \\'bars\\' though...\".\\n\\nchosenlist.append({\\n\\'Thoughts\\': thoughts1,\\n\\'Guess\\': guess1,\\n\\'Explanation\\': explanation1']\n"
     ]
    },
    {
     "name": "stderr",
     "output_type": "stream",
     "text": [
      " 84%|██████████████████████████████████████████████████████▌          | 42/50 [02:22<00:21,  2.72s/it]"
     ]
    },
    {
     "name": "stdout",
     "output_type": "stream",
     "text": [
      "Bad model output: ['Sorry, I am an AI and do not have the capabilities to play games or think from the perspective of a person. I can provide information and assist with tasks, but I am not capable of playing games with specific roles and personas. Is there anything else I can assist you with?']\n"
     ]
    },
    {
     "name": "stderr",
     "output_type": "stream",
     "text": [
      "100%|█████████████████████████████████████████████████████████████████| 50/50 [02:47<00:00,  3.36s/it]\n"
     ]
    }
   ],
   "source": [
    "emma_dict = {}\n",
    "word_list = ['monkey', 'history', 'pint', 'umbrella', 'chocolate', 'octopus', 'intoxicated']\n",
    "for word in word_list:\n",
    "    emma_dict[word] = 0\n",
    "\n",
    "for i in tqdm(range(50)):\n",
    "    emma_output = model.infer([emma_prompt], max_tokens=250)\n",
    "    pattern = r\"'Guess':\\s*'([^']*)'\"\n",
    "    guesses = re.findall(pattern, emma_output[0])\n",
    "    for guess in guesses:\n",
    "        try:\n",
    "            emma_dict[guess.lower()] += 1\n",
    "        except:\n",
    "            print(\"Bad guess:\", guess)\n",
    "    if len(guesses) != 2:\n",
    "        print(\"Bad model output:\", emma_output)"
   ]
  },
  {
   "cell_type": "code",
   "execution_count": 80,
   "id": "fc885d20-e7a9-47d5-998e-eafb75b80b48",
   "metadata": {},
   "outputs": [
    {
     "data": {
      "text/plain": [
       "{'monkey': 15,\n",
       " 'history': 3,\n",
       " 'pint': 22,\n",
       " 'umbrella': 17,\n",
       " 'chocolate': 27,\n",
       " 'octopus': 2,\n",
       " 'intoxicated': 10}"
      ]
     },
     "execution_count": 80,
     "metadata": {},
     "output_type": "execute_result"
    }
   ],
   "source": [
    "emma_dict"
   ]
  },
  {
   "cell_type": "code",
   "execution_count": 94,
   "id": "f05cefca-6edb-476c-b5c3-46e5179e802d",
   "metadata": {},
   "outputs": [
    {
     "data": {
      "text/plain": [
       "<Figure size 1000x600 with 0 Axes>"
      ]
     },
     "metadata": {},
     "output_type": "display_data"
    },
    {
     "data": {
      "image/png": "[encoded data removed]",
      "text/plain": [
       "<Figure size 640x480 with 1 Axes>"
      ]
     },
     "metadata": {},
     "output_type": "display_data"
    }
   ],
   "source": [
    "\n",
    "# Your dictionaries\n",
    "dict1 = isabella_dict\n",
    "dict2 = emma_dict\n",
    "\n",
    "# Extracting the keys and values in sorted order\n",
    "keys = sorted(dict1.keys())\n",
    "values1 = [dict1[key] for key in keys]\n",
    "values2 = [dict2[key] for key in keys]\n",
    "\n",
    "# Setting the positions and width for the bars\n",
    "positions = range(len(keys))\n",
    "width = 0.35\n",
    "\n",
    "# Increase figure size for better spacing\n",
    "plt.figure(figsize=(10, 6))\n",
    "\n",
    "# Plotting the bars\n",
    "fig, ax = plt.subplots()\n",
    "\n",
    "bar1 = ax.bar(positions, values1, width, label='adult')\n",
    "bar2 = ax.bar([p + width for p in positions], values2, width, label='6-year-old')\n",
    "\n",
    "# Adding some text for labels, title, and custom x-axis tick labels, etc.\n",
    "ax.set_ylabel('Times Guessed')\n",
    "ax.set_title(\"Clue given: ['bars', 2]\")\n",
    "ax.set_xticks([p + width / 2 for p in positions])\n",
    "ax.set_xticklabels(keys, rotation=45)  # Rotate labels for better visibility\n",
    "ax.legend()\n",
    "\n",
    "# Adjust layout for better fit\n",
    "plt.tight_layout()\n",
    "\n",
    "# Display the plot\n",
    "plt.show()\n"
   ]
  },
  {
   "cell_type": "code",
   "execution_count": null,
   "id": "f542ddcd-14b0-4301-b158-c733a2d3bc90",
   "metadata": {},
   "outputs": [],
   "source": []
  },
  {
   "cell_type": "code",
   "execution_count": null,
   "id": "7168be88-2f98-4969-a1b8-6750470d2484",
   "metadata": {},
   "outputs": [],
   "source": []
  }
 ],
 "metadata": {
  "kernelspec": {
   "display_name": "Python 3 (ipykernel)",
   "language": "python",
   "name": "python3"
  },
  "language_info": {
   "codemirror_mode": {
    "name": "ipython",
    "version": 3
   },
   "file_extension": ".py",
   "mimetype": "text/x-python",
   "name": "python",
   "nbconvert_exporter": "python",
   "pygments_lexer": "ipython3",
   "version": "3.8.18"
  }
 },
 "nbformat": 4,
 "nbformat_minor": 5
}
